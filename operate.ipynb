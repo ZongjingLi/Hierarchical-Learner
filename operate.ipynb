{
 "cells": [
  {
   "cell_type": "code",
   "execution_count": 26,
   "metadata": {},
   "outputs": [
    {
     "name": "stdout",
     "output_type": "stream",
     "text": [
      "[nltk_data] Downloading package averaged_perceptron_tagger to\n",
      "[nltk_data]     /Users/melkor/nltk_data...\n",
      "[nltk_data]   Package averaged_perceptron_tagger is already up-to-\n",
      "[nltk_data]       date!\n",
      "[Taichi] version 1.7.0, llvm 15.0.7, commit 7b58b0ff, osx, python 3.9.13\n",
      "No checkpoint to load and creating a new model instance\n",
      "using perception: csqnet knowledge:box dataset:StructureNet\n",
      "\n",
      "start the traininig process\n",
      "\n",
      "start the experiment: KFT query:[False]\n",
      "experiment config: \n",
      "epoch: 1200 \n",
      "batch: 1 samples \n",
      "lr: 0.001\n",
      "\n",
      "saved!\n",
      "saved!\n",
      "saved!\n",
      "saved!\n",
      "saved!\n",
      "saved!\n",
      "^C\n",
      "Traceback (most recent call last):\n",
      "  File \"/Users/melkor/Documents/GitHub/Hierarchical-Learner/HierarchyLearner/main.py\", line 76, in <module>\n",
      "    train(model, config, args)\n",
      "  File \"/Users/melkor/Documents/GitHub/Hierarchical-Learner/HierarchyLearner/train.py\", line 102, in train\n",
      "    percept_outputs = train_model.perception(sample)\n",
      "  File \"/Users/melkor/miniforge3/envs/Melkor/lib/python3.9/site-packages/torch/nn/modules/module.py\", line 1194, in _call_impl\n",
      "    return forward_call(*input, **kwargs)\n",
      "  File \"/Users/melkor/Documents/GitHub/Hierarchical-Learner/HierarchyLearner/model/percept/csqnet/csqnet.py\", line 101, in forward\n",
      "    y = self.decoder(gc.transpose(2, 1).squeeze(-1), return_splits = self.split_components)\n",
      "  File \"/Users/melkor/miniforge3/envs/Melkor/lib/python3.9/site-packages/torch/nn/modules/module.py\", line 1194, in _call_impl\n",
      "    return forward_call(*input, **kwargs)\n",
      "  File \"/Users/melkor/Documents/GitHub/Hierarchical-Learner/HierarchyLearner/model/percept/csqnet/decoder.py\", line 148, in forward\n",
      "    out_ = self.decoder[i](y_) # B*3*num_pts_per_grid\n",
      "  File \"/Users/melkor/miniforge3/envs/Melkor/lib/python3.9/site-packages/torch/nn/modules/module.py\", line 1194, in _call_impl\n",
      "    return forward_call(*input, **kwargs)\n",
      "  File \"/Users/melkor/Documents/GitHub/Hierarchical-Learner/HierarchyLearner/model/percept/csqnet/decoder.py\", line 91, in forward\n",
      "    x = F.relu(self.bn1(self.conv1(x)))\n",
      "  File \"/Users/melkor/miniforge3/envs/Melkor/lib/python3.9/site-packages/torch/nn/modules/module.py\", line 1194, in _call_impl\n",
      "    return forward_call(*input, **kwargs)\n",
      "  File \"/Users/melkor/miniforge3/envs/Melkor/lib/python3.9/site-packages/torch/nn/modules/conv.py\", line 313, in forward\n",
      "    return self._conv_forward(input, self.weight, self.bias)\n",
      "  File \"/Users/melkor/miniforge3/envs/Melkor/lib/python3.9/site-packages/torch/nn/modules/conv.py\", line 309, in _conv_forward\n",
      "    return F.conv1d(input, weight, bias, self.stride,\n",
      "KeyboardInterrupt\n"
     ]
    }
   ],
   "source": [
    "!/Users/melkor/miniforge3/envs/Melkor/bin/python \\\n",
    "    HierarchyLearner/main.py --cmd=\"train\" \\\n",
    "    --perception=\"csqnet\" --dataset=\"StructureNet\" \\\n",
    "    --concept_type=\"box\" \\\n",
    "    --checkpoint_itrs=10"
   ]
  }
 ],
 "metadata": {
  "interpreter": {
   "hash": "a47e46093c771f9510c4aabf3710bfb1355e5f870a13f8c22092f45d4d23626d"
  },
  "kernelspec": {
   "display_name": "Python 3.9.13 ('Melkor')",
   "language": "python",
   "name": "python3"
  },
  "language_info": {
   "codemirror_mode": {
    "name": "ipython",
    "version": 3
   },
   "file_extension": ".py",
   "mimetype": "text/x-python",
   "name": "python",
   "nbconvert_exporter": "python",
   "pygments_lexer": "ipython3",
   "version": "3.9.13"
  },
  "orig_nbformat": 4
 },
 "nbformat": 4,
 "nbformat_minor": 2
}
