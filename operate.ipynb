{
 "cells": [
  {
   "cell_type": "code",
   "execution_count": 39,
   "metadata": {},
   "outputs": [
    {
     "name": "stdout",
     "output_type": "stream",
     "text": [
      "[nltk_data] Downloading package averaged_perceptron_tagger to\n",
      "[nltk_data]     /Users/melkor/nltk_data...\n",
      "[nltk_data]   Package averaged_perceptron_tagger is already up-to-\n",
      "[nltk_data]       date!\n",
      "[Taichi] version 1.7.0, llvm 15.0.7, commit 7b58b0ff, osx, python 3.9.13\n",
      "start the demo\n",
      "Figure(960x480)\n",
      "Figure(1500x600)\n",
      "Figure(300x300)\n"
     ]
    }
   ],
   "source": [
    "# [Just A Demo of How Model Works]\n",
    "!/Users/melkor/miniforge3/envs/Melkor/bin/python \\\n",
    "    HierarchyLearner/demo.py \\\n",
    "    --dataset=\"StructureNet\" \\\n",
    "    --checkpoint_dir=\"checkpoints/KFT_StructureNet_0.ckpt\""
   ]
  }
 ],
 "metadata": {
  "language_info": {
   "name": "python"
  },
  "orig_nbformat": 4
 },
 "nbformat": 4,
 "nbformat_minor": 2
}
