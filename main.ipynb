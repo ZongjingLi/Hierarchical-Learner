{
 "cells": [
  {
   "cell_type": "code",
   "execution_count": 9,
   "metadata": {},
   "outputs": [
    {
     "name": "stdout",
     "output_type": "stream",
     "text": [
      "[nltk_data] Downloading package averaged_perceptron_tagger to\n",
      "[nltk_data]     /Users/melkor/nltk_data...\n",
      "[nltk_data]   Package averaged_perceptron_tagger is already up-to-\n",
      "[nltk_data]       date!\n",
      "[Taichi] version 1.7.0, llvm 15.0.7, commit 7b58b0ff, osx, python 3.9.13\n",
      "using perception: csqnet knowledge:box dataset:StructureNet\n",
      "\n",
      "start the traininig process\n",
      "\n",
      "start the experiment: KFT query:[False]\n",
      "experiment config: \n",
      "epoch: 1200 \n",
      "batch: 1 samples \n",
      "lr: 0.001\n",
      "\n",
      "Epoch: 44, Itrs: 32526 Loss: 0.017121898010373116 Percept:0.017121898010373116 Language:0.0, Time: 2:10:04.79660604^C\n",
      "Traceback (most recent call last):\n",
      "  File \"/Users/melkor/Documents/GitHub/Hierarchical-Learner/HierarchyLearner/main.py\", line 76, in <module>\n",
      "    train(model, config, args)\n",
      "  File \"/Users/melkor/Documents/GitHub/Hierarchical-Learner/HierarchyLearner/train.py\", line 121, in train\n",
      "    working_loss.backward()\n",
      "  File \"/Users/melkor/miniforge3/envs/Melkor/lib/python3.9/site-packages/torch/_tensor.py\", line 488, in backward\n",
      "    torch.autograd.backward(\n",
      "  File \"/Users/melkor/miniforge3/envs/Melkor/lib/python3.9/site-packages/torch/autograd/__init__.py\", line 197, in backward\n",
      "    Variable._execution_engine.run_backward(  # Calls into the C++ engine to run the backward pass\n",
      "KeyboardInterrupt\n"
     ]
    }
   ],
   "source": [
    "!/Users/melkor/miniforge3/envs/Melkor/bin/python \\\n",
    "    HierarchyLearner/main.py --cmd=\"train\" \\\n",
    "    --perception=\"csqnet\" --dataset=\"StructureNet\" \\\n",
    "    --concept_type=\"box\" \\\n",
    "    --checkpoint_itrs=10 --lr=0.001\\\n",
    "    --checkpoint_dir=\"checkpoints/KFT_StructureNet_0.ckpt\""
   ]
  }
 ],
 "metadata": {
  "interpreter": {
   "hash": "a47e46093c771f9510c4aabf3710bfb1355e5f870a13f8c22092f45d4d23626d"
  },
  "kernelspec": {
   "display_name": "Python 3.9.13 ('Melkor')",
   "language": "python",
   "name": "python3"
  },
  "language_info": {
   "codemirror_mode": {
    "name": "ipython",
    "version": 3
   },
   "file_extension": ".py",
   "mimetype": "text/x-python",
   "name": "python",
   "nbconvert_exporter": "python",
   "pygments_lexer": "ipython3",
   "version": "3.9.13"
  },
  "orig_nbformat": 4
 },
 "nbformat": 4,
 "nbformat_minor": 2
}
