{
 "cells": [
  {
   "cell_type": "code",
   "execution_count": 32,
   "metadata": {},
   "outputs": [],
   "source": [
    "from config import *\n",
    "from model import *\n",
    "from train import *"
   ]
  },
  {
   "cell_type": "code",
   "execution_count": 33,
   "metadata": {},
   "outputs": [],
   "source": [
    "argparser = argparse.ArgumentParser()\n",
    "# [general config of the training]\n",
    "argparser.add_argument(\"--phase\",                   default = \"0\")\n",
    "argparser.add_argument(\"--device\",                  default = config.device)\n",
    "argparser.add_argument(\"--name\",                    default = \"KFT\")\n",
    "argparser.add_argument(\"--epoch\",                   default = 400 * 3)\n",
    "argparser.add_argument(\"--optimizer\",               default = \"Adam\")\n",
    "argparser.add_argument(\"--lr\",                      default = 2e-4)\n",
    "argparser.add_argument(\"--batch_size\",              default = 1)\n",
    "argparser.add_argument(\"--dataset\",                 default = \"StructureNet\")\n",
    "argparser.add_argument(\"--category\",                default = [\"chair\"])\n",
    "argparser.add_argument(\"--freeze_perception\",       default = False)\n",
    "argparser.add_argument(\"--concept_type\",            default = False)\n",
    "\n",
    "# [perception and language grounding training]\n",
    "argparser.add_argument(\"--perception\",              default = \"csqnet\")\n",
    "argparser.add_argument(\"--training_mode\",           default = \"joint\")\n",
    "argparser.add_argument(\"--alpha\",                   default = 1.00)\n",
    "argparser.add_argument(\"--beta\",                    default = 1.0)\n",
    "\n",
    "# [additional training details]\n",
    "argparser.add_argument(\"--warmup\",                  default = True)\n",
    "argparser.add_argument(\"--warmup_steps\",            default = 300)\n",
    "argparser.add_argument(\"--decay\",                   default = False)\n",
    "argparser.add_argument(\"--decay_steps\",             default = 20000)\n",
    "argparser.add_argument(\"--decay_rate\",              default = 0.99)\n",
    "argparser.add_argument(\"--shuffle\",                 default = True)\n",
    "\n",
    "# [curriculum training details]\n",
    "argparser.add_argument(\"--effective_level\",         default = 1)\n",
    "\n",
    "# [checkpoint location and savings]\n",
    "argparser.add_argument(\"--checkpoint_dir\",          default = False)\n",
    "argparser.add_argument(\"--checkpoint_itrs\",         default = 10,       type=int)\n",
    "argparser.add_argument(\"--pretrain_perception\",     default = False)\n",
    "\n",
    "args = argparser.parse_args(args = [])"
   ]
  },
  {
   "cell_type": "code",
   "execution_count": 34,
   "metadata": {},
   "outputs": [
    {
     "name": "stdout",
     "output_type": "stream",
     "text": [
      "StructureGrouding Net with  chair\n"
     ]
    }
   ],
   "source": [
    "# [Data Preparation]\n",
    "from datasets import Objects3dDataset, StructureDataset, StructureGroundingDataset\n",
    "dataset = StructureDataset(config, \"chair\", \"train\",)\n",
    "dataset = StructureGroundingDataset(config, \"chair\", \"train\", \"3\")\n",
    "\n",
    "loader = torch.utils.data.DataLoader(dataset, batch_size = 1, shuffle = True)\n",
    "for sample in loader:\n",
    "    sample,gt = sample\n",
    "    break;"
   ]
  },
  {
   "cell_type": "code",
   "execution_count": 35,
   "metadata": {},
   "outputs": [
    {
     "data": {
      "image/png": "[encoded data removed]",
      "text/plain": [
       "<Figure size 288x288 with 1 Axes>"
      ]
     },
     "metadata": {
      "needs_background": "light"
     },
     "output_type": "display_data"
    }
   ],
   "source": [
    "visualize_pointcloud([\n",
    "    [sample[\"point_cloud\"][0] * 2, 0.5 * torch.ones_like(sample[\"point_cloud\"][0] ) ]\n",
    "])"
   ]
  },
  {
   "cell_type": "code",
   "execution_count": 36,
   "metadata": {},
   "outputs": [
    {
     "name": "stdout",
     "output_type": "stream",
     "text": [
      "/Users/melkor/Documents/GitHub/Hierarchical-Learner/HierarchyLearner/knowledge/structure_chair_concept_vocab.txt\n"
     ]
    }
   ],
   "source": [
    "model = Halearner(config)\n",
    "#print(model.perception)"
   ]
  },
  {
   "cell_type": "code",
   "execution_count": 37,
   "metadata": {},
   "outputs": [
    {
     "name": "stdout",
     "output_type": "stream",
     "text": [
      "0.025040045\n",
      "Exist(Filter(Scene(), leg)) yes\n",
      "0.02953096\n",
      "Exist(Filter(Scene(), chair)) no\n",
      "tensor([-3.7540, -3.8485, -3.8445,  ..., -3.8394, -3.8473, -3.7871],\n",
      "       grad_fn=<CatBackward0>)\n",
      "tensor([-16.1181, -16.1181, -16.1181, -16.1181], grad_fn=<CatBackward0>)\n",
      "tensor([-16.1181], grad_fn=<CatBackward0>)\n",
      "[('count(filter(scene(),back_single_surface))',), ('count(filter(scene(),headrest))',), ('count(filter(scene(),star_leg_base))',), ('count(filter(scene(),mechanical_control))',), ('count(filter(scene(),star_leg_base))',), ('exist(filter(subtree(filter(scene(),star_leg_set)),leg))',), ('Is there any seat_single_surface in the scene?',), ('exist(filter(subtree(filter(scene(),star_leg_set)),caster))',), ('count(filter(scene(),arm_sofa_style))',), ('count(filter(scene(),leg))',), ('count(filter(scene(),back_surface_horizontal_bar))',), ('Is there any back_single_surface in the scene?',)] [('yes',), ('no',), ('no',), ('no',), ('no',), ('yes',), ('yes',), ('yes',), ('no',), ('yes',), ('no',), ('yes',)]\n"
     ]
    }
   ],
   "source": [
    "# [Train Backbone]\n",
    "outputs = model.perception(sample)\n",
    "\n",
    "loss = outputs[\"losses\"]\n",
    "#print(loss[\"occ_reconstruction\"])\n",
    "#print(loss[\"color_reconstruction\"])\n",
    "#print(outputs)\n",
    "#print(outputs[\"features\"].shape)\n",
    "#print(outputs[\"occ\"].shape)\n",
    "\n",
    "def load_scene(scene, k): \n",
    "    scores = scene[\"scores\"]; features = scene[\"features\"]; connections = scene[\"connections\"]\n",
    "    return [score[k] for score in scores], [feature[k] for feature in features], \\\n",
    "        [connection[k] for connection in connections[1:]]\n",
    "\n",
    "base_features = outputs[\"features\"]\n",
    "\n",
    "obj_map = nn.Linear(1025,100)\n",
    "\n",
    "base_features = obj_map(base_features)\n",
    "\n",
    "scene_struct = model.build_scene(base_features)\n",
    "\n",
    "scores,features,connections = load_scene(scene_struct, 0)\n",
    "\n",
    "kwargs = {\"features\":features,\n",
    "        \"end\":scores,\n",
    "        \"connections\":connections}\n",
    "\n",
    "\n",
    "qa_programs = [\n",
    "    \"exist(filter(scene(),leg))\",\n",
    "    \"exist(filter(scene(),chair))\",\n",
    "    \"filter(scene(),leg)\",\n",
    "    ]\n",
    "answers = [\n",
    "    \"yes\",\"no\",\"na\",\"na\"\n",
    "]\n",
    "\n",
    "language_loss = 0.0\n",
    "model.executor.effective_level = 1\n",
    "for i,q in enumerate(qa_programs):\n",
    "        answer = answers[i]\n",
    "\n",
    "        q = model.executor.parse(q)\n",
    "\n",
    "                        \n",
    "        o = model.executor(q, **kwargs)\n",
    "        \n",
    "        \n",
    "        if isinstance(o[\"end\"],list):\n",
    "            for item in o[\"end\"]:print(item)\n",
    "        else:\n",
    "            print(o[\"end\"].sigmoid().detach().numpy())\n",
    "            print(q,answer)\n",
    "print(sample[\"questions\"],sample[\"answers\"])"
   ]
  },
  {
   "cell_type": "code",
   "execution_count": 38,
   "metadata": {},
   "outputs": [
    {
     "name": "stdout",
     "output_type": "stream",
     "text": [
      "start the experiment: KFT query:[False]\n",
      "experiment config: \n",
      "epoch: 1320 \n",
      "batch: 1 samples \n",
      "lr: 0.0002\n",
      "\n",
      "alpha:1.0 beta:1.0\n",
      "Epoch: 173, Itrs: 17207 Loss: 0.6763779520988464 Percept:0.6763779520988464 Language:0.0, Time: 1:35:52.09576101"
     ]
    },
    {
     "ename": "KeyboardInterrupt",
     "evalue": "",
     "output_type": "error",
     "traceback": [
      "\u001b[0;31m---------------------------------------------------------------------------\u001b[0m",
      "\u001b[0;31mKeyboardInterrupt\u001b[0m                         Traceback (most recent call last)",
      "\u001b[1;32m/Users/melkor/Documents/GitHub/Hierarchical-Learner/HierarchyLearner/demofield.ipynb Cell 7'\u001b[0m in \u001b[0;36m<cell line: 7>\u001b[0;34m()\u001b[0m\n\u001b[1;32m      <a href='vscode-notebook-cell:/Users/melkor/Documents/GitHub/Hierarchical-Learner/HierarchyLearner/demofield.ipynb#ch0000004?line=2'>3</a>\u001b[0m args\u001b[39m.\u001b[39mdataset \u001b[39m=\u001b[39m \u001b[39m\"\u001b[39m\u001b[39mStructureNet\u001b[39m\u001b[39m\"\u001b[39m\n\u001b[1;32m      <a href='vscode-notebook-cell:/Users/melkor/Documents/GitHub/Hierarchical-Learner/HierarchyLearner/demofield.ipynb#ch0000004?line=4'>5</a>\u001b[0m \u001b[39m#model.load_state_dict(torch.load(\"checkpoints/KFT_Objects3d_0.pth\"))\u001b[39;00m\n\u001b[1;32m      <a href='vscode-notebook-cell:/Users/melkor/Documents/GitHub/Hierarchical-Learner/HierarchyLearner/demofield.ipynb#ch0000004?line=5'>6</a>\u001b[0m \u001b[39m#print(model)\u001b[39;00m\n\u001b[0;32m----> <a href='vscode-notebook-cell:/Users/melkor/Documents/GitHub/Hierarchical-Learner/HierarchyLearner/demofield.ipynb#ch0000004?line=6'>7</a>\u001b[0m model \u001b[39m=\u001b[39m train(model, config, args, num_sample \u001b[39m=\u001b[39;49m \u001b[39m100\u001b[39;49m)\n",
      "File \u001b[0;32m~/Documents/GitHub/Hierarchical-Learner/HierarchyLearner/train.py:170\u001b[0m, in \u001b[0;36mtrain\u001b[0;34m(train_model, config, args, phase, num_sample)\u001b[0m\n\u001b[1;32m    <a href='file:///Users/melkor/Documents/GitHub/Hierarchical-Learner/HierarchyLearner/train.py?line=167'>168</a>\u001b[0m \u001b[39m# [Optimization Loss]\u001b[39;00m\n\u001b[1;32m    <a href='file:///Users/melkor/Documents/GitHub/Hierarchical-Learner/HierarchyLearner/train.py?line=168'>169</a>\u001b[0m optimizer\u001b[39m.\u001b[39mzero_grad()\n\u001b[0;32m--> <a href='file:///Users/melkor/Documents/GitHub/Hierarchical-Learner/HierarchyLearner/train.py?line=169'>170</a>\u001b[0m working_loss\u001b[39m.\u001b[39;49mbackward()\n\u001b[1;32m    <a href='file:///Users/melkor/Documents/GitHub/Hierarchical-Learner/HierarchyLearner/train.py?line=170'>171</a>\u001b[0m optimizer\u001b[39m.\u001b[39mstep()\n\u001b[1;32m    <a href='file:///Users/melkor/Documents/GitHub/Hierarchical-Learner/HierarchyLearner/train.py?line=172'>173</a>\u001b[0m \u001b[39mif\u001b[39;00m itrs \u001b[39m%\u001b[39m args\u001b[39m.\u001b[39mcheckpoint_itrs \u001b[39m==\u001b[39m \u001b[39m0\u001b[39m:\n",
      "File \u001b[0;32m~/miniforge3/envs/Melkor/lib/python3.9/site-packages/torch/_tensor.py:488\u001b[0m, in \u001b[0;36mTensor.backward\u001b[0;34m(self, gradient, retain_graph, create_graph, inputs)\u001b[0m\n\u001b[1;32m    <a href='file:///Users/melkor/miniforge3/envs/Melkor/lib/python3.9/site-packages/torch/_tensor.py?line=477'>478</a>\u001b[0m \u001b[39mif\u001b[39;00m has_torch_function_unary(\u001b[39mself\u001b[39m):\n\u001b[1;32m    <a href='file:///Users/melkor/miniforge3/envs/Melkor/lib/python3.9/site-packages/torch/_tensor.py?line=478'>479</a>\u001b[0m     \u001b[39mreturn\u001b[39;00m handle_torch_function(\n\u001b[1;32m    <a href='file:///Users/melkor/miniforge3/envs/Melkor/lib/python3.9/site-packages/torch/_tensor.py?line=479'>480</a>\u001b[0m         Tensor\u001b[39m.\u001b[39mbackward,\n\u001b[1;32m    <a href='file:///Users/melkor/miniforge3/envs/Melkor/lib/python3.9/site-packages/torch/_tensor.py?line=480'>481</a>\u001b[0m         (\u001b[39mself\u001b[39m,),\n\u001b[0;32m   (...)\u001b[0m\n\u001b[1;32m    <a href='file:///Users/melkor/miniforge3/envs/Melkor/lib/python3.9/site-packages/torch/_tensor.py?line=485'>486</a>\u001b[0m         inputs\u001b[39m=\u001b[39minputs,\n\u001b[1;32m    <a href='file:///Users/melkor/miniforge3/envs/Melkor/lib/python3.9/site-packages/torch/_tensor.py?line=486'>487</a>\u001b[0m     )\n\u001b[0;32m--> <a href='file:///Users/melkor/miniforge3/envs/Melkor/lib/python3.9/site-packages/torch/_tensor.py?line=487'>488</a>\u001b[0m torch\u001b[39m.\u001b[39;49mautograd\u001b[39m.\u001b[39;49mbackward(\n\u001b[1;32m    <a href='file:///Users/melkor/miniforge3/envs/Melkor/lib/python3.9/site-packages/torch/_tensor.py?line=488'>489</a>\u001b[0m     \u001b[39mself\u001b[39;49m, gradient, retain_graph, create_graph, inputs\u001b[39m=\u001b[39;49minputs\n\u001b[1;32m    <a href='file:///Users/melkor/miniforge3/envs/Melkor/lib/python3.9/site-packages/torch/_tensor.py?line=489'>490</a>\u001b[0m )\n",
      "File \u001b[0;32m~/miniforge3/envs/Melkor/lib/python3.9/site-packages/torch/autograd/__init__.py:197\u001b[0m, in \u001b[0;36mbackward\u001b[0;34m(tensors, grad_tensors, retain_graph, create_graph, grad_variables, inputs)\u001b[0m\n\u001b[1;32m    <a href='file:///Users/melkor/miniforge3/envs/Melkor/lib/python3.9/site-packages/torch/autograd/__init__.py?line=191'>192</a>\u001b[0m     retain_graph \u001b[39m=\u001b[39m create_graph\n\u001b[1;32m    <a href='file:///Users/melkor/miniforge3/envs/Melkor/lib/python3.9/site-packages/torch/autograd/__init__.py?line=193'>194</a>\u001b[0m \u001b[39m# The reason we repeat same the comment below is that\u001b[39;00m\n\u001b[1;32m    <a href='file:///Users/melkor/miniforge3/envs/Melkor/lib/python3.9/site-packages/torch/autograd/__init__.py?line=194'>195</a>\u001b[0m \u001b[39m# some Python versions print out the first line of a multi-line function\u001b[39;00m\n\u001b[1;32m    <a href='file:///Users/melkor/miniforge3/envs/Melkor/lib/python3.9/site-packages/torch/autograd/__init__.py?line=195'>196</a>\u001b[0m \u001b[39m# calls in the traceback and some print out the last line\u001b[39;00m\n\u001b[0;32m--> <a href='file:///Users/melkor/miniforge3/envs/Melkor/lib/python3.9/site-packages/torch/autograd/__init__.py?line=196'>197</a>\u001b[0m Variable\u001b[39m.\u001b[39;49m_execution_engine\u001b[39m.\u001b[39;49mrun_backward(  \u001b[39m# Calls into the C++ engine to run the backward pass\u001b[39;49;00m\n\u001b[1;32m    <a href='file:///Users/melkor/miniforge3/envs/Melkor/lib/python3.9/site-packages/torch/autograd/__init__.py?line=197'>198</a>\u001b[0m     tensors, grad_tensors_, retain_graph, create_graph, inputs,\n\u001b[1;32m    <a href='file:///Users/melkor/miniforge3/envs/Melkor/lib/python3.9/site-packages/torch/autograd/__init__.py?line=198'>199</a>\u001b[0m     allow_unreachable\u001b[39m=\u001b[39;49m\u001b[39mTrue\u001b[39;49;00m, accumulate_grad\u001b[39m=\u001b[39;49m\u001b[39mTrue\u001b[39;49;00m)\n",
      "\u001b[0;31mKeyboardInterrupt\u001b[0m: "
     ]
    }
   ],
   "source": [
    "\n",
    "args.epoch = 1320\n",
    "#model.perception.split_components = False\n",
    "args.dataset = \"StructureNet\"\n",
    "\n",
    "#model.load_state_dict(torch.load(\"checkpoints/KFT_Objects3d_0.pth\"))\n",
    "#print(model)\n",
    "model = train(model, config, args, num_sample = 100)"
   ]
  }
 ],
 "metadata": {
  "interpreter": {
   "hash": "a47e46093c771f9510c4aabf3710bfb1355e5f870a13f8c22092f45d4d23626d"
  },
  "kernelspec": {
   "display_name": "Python 3.9.13 ('Melkor')",
   "language": "python",
   "name": "python3"
  },
  "language_info": {
   "codemirror_mode": {
    "name": "ipython",
    "version": 3
   },
   "file_extension": ".py",
   "mimetype": "text/x-python",
   "name": "python",
   "nbconvert_exporter": "python",
   "pygments_lexer": "ipython3",
   "version": "3.9.13"
  },
  "orig_nbformat": 4
 },
 "nbformat": 4,
 "nbformat_minor": 2
}
